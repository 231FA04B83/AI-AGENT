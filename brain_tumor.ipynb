{
  "nbformat": 4,
  "nbformat_minor": 0,
  "metadata": {
    "colab": {
      "provenance": []
    },
    "kernelspec": {
      "name": "python3",
      "display_name": "Python 3"
    },
    "language_info": {
      "name": "python"
    }
  },
  "cells": [
    {
      "cell_type": "code",
      "source": [
        "import urllib\n",
        "import zipfile\n",
        "import os\n",
        "# Download and unzip the dataset\n",
        "if not os.path.isfile('.zip'):\n",
        "  urllib.request.urlretrieve(\"https://github.com/Gurupatil0003/Brain-Tumor-Data-Set/archive/refs/heads/main.zip\", \"Brain Tumor Data Set.zip\")\n",
        "\n",
        "zip_filename = \"Brain Tumor Data Set.zip\"\n",
        "with zipfile.ZipFile(\"Brain Tumor Data Set.zip\",\"r\") as zip_ref:\n",
        "    zip_ref.extractall(\".\")"
      ],
      "metadata": {
        "id": "LeUlRLQM1ZQh"
      },
      "execution_count": 7,
      "outputs": []
    }
  ]
}